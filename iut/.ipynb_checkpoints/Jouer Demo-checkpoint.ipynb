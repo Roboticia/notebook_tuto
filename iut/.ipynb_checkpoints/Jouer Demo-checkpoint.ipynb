{
 "cells": [
  {
   "cell_type": "code",
   "execution_count": null,
   "metadata": {
    "collapsed": true
   },
   "outputs": [],
   "source": [
    "#1- Exécutez le bloc suivant pour initialiser le robot. Attendez qu'il soit complètement blanc avant de passer à la suite."
   ]
  },
  {
   "cell_type": "code",
   "execution_count": 1,
   "metadata": {
    "collapsed": false
   },
   "outputs": [
    {
     "name": "stdout",
     "output_type": "stream",
     "text": [
      "Populating the interactive namespace from numpy and matplotlib\n"
     ]
    }
   ],
   "source": [
    "%pylab inline\n",
    "from __future__ import print_function\n",
    "from poppy.creatures import PoppyErgoJr\n",
    "poppy = PoppyErgoJr(camera='dummy')\n",
    "import time\n",
    "\n",
    "poppy.m1.led = 'white'\n",
    "time.sleep(1)\n",
    "\n",
    "from pypot.primitive.move import Move\n",
    "\n",
    "poppy.m2.led = 'white'\n",
    "time.sleep(1)\n",
    "\n",
    "from pypot.primitive.move import MovePlayer\n",
    "\n",
    "poppy.m3.led = 'white'\n",
    "time.sleep(1)\n",
    "\n",
    "poppy.m4.led = 'white'\n",
    "time.sleep(1)\n",
    "\n",
    "with open('Mouvement_demo.move') as f:\n",
    "    my_loaded_move = Move.load(f)\n",
    "\n",
    "poppy.m5.led = 'white'\n",
    "time.sleep(1)\n",
    "    \n",
    "player = MovePlayer(poppy, my_loaded_move)\n",
    "\n",
    "poppy.m6.led = 'white'\n",
    "time.sleep(1)\n",
    "\n",
    "poppy.base_posture.start()"
   ]
  },
  {
   "cell_type": "code",
   "execution_count": null,
   "metadata": {
    "collapsed": true
   },
   "outputs": [],
   "source": [
    "#2- Lancez ce bloc pour jouer en boucle le mouvement enregistré au préalable"
   ]
  },
  {
   "cell_type": "code",
   "execution_count": 2,
   "metadata": {
    "collapsed": false
   },
   "outputs": [
    {
     "ename": "KeyboardInterrupt",
     "evalue": "",
     "output_type": "error",
     "traceback": [
      "\u001b[1;31m---------------------------------------------------------------------------\u001b[0m",
      "\u001b[1;31mKeyboardInterrupt\u001b[0m                         Traceback (most recent call last)",
      "\u001b[1;32m<ipython-input-2-fb2fb4d924f5>\u001b[0m in \u001b[0;36m<module>\u001b[1;34m()\u001b[0m\n\u001b[0;32m      1\u001b[0m \u001b[1;32mwhile\u001b[0m \u001b[1;36m1\u001b[0m \u001b[1;33m:\u001b[0m\u001b[1;33m\u001b[0m\u001b[0m\n\u001b[0;32m      2\u001b[0m     \u001b[0mpoppy\u001b[0m\u001b[1;33m.\u001b[0m\u001b[0mbase_posture\u001b[0m\u001b[1;33m.\u001b[0m\u001b[0mstart\u001b[0m\u001b[1;33m(\u001b[0m\u001b[1;33m)\u001b[0m\u001b[1;33m\u001b[0m\u001b[0m\n\u001b[1;32m----> 3\u001b[1;33m     \u001b[0mtime\u001b[0m\u001b[1;33m.\u001b[0m\u001b[0msleep\u001b[0m\u001b[1;33m(\u001b[0m\u001b[1;36m12\u001b[0m\u001b[1;33m)\u001b[0m\u001b[1;33m\u001b[0m\u001b[0m\n\u001b[0m\u001b[0;32m      4\u001b[0m     \u001b[0mplayer\u001b[0m\u001b[1;33m.\u001b[0m\u001b[0mstart\u001b[0m\u001b[1;33m(\u001b[0m\u001b[1;33m)\u001b[0m\u001b[1;33m\u001b[0m\u001b[0m\n",
      "\u001b[1;31mKeyboardInterrupt\u001b[0m: "
     ]
    }
   ],
   "source": [
    "while 1 :\n",
    "    poppy.base_posture.start()\n",
    "    time.sleep(12)\n",
    "    player.start()\n"
   ]
  },
  {
   "cell_type": "code",
   "execution_count": null,
   "metadata": {
    "collapsed": true
   },
   "outputs": [],
   "source": []
  }
 ],
 "metadata": {
  "kernelspec": {
   "display_name": "Python 2",
   "language": "python",
   "name": "python2"
  },
  "language_info": {
   "codemirror_mode": {
    "name": "ipython",
    "version": 2
   },
   "file_extension": ".py",
   "mimetype": "text/x-python",
   "name": "python",
   "nbconvert_exporter": "python",
   "pygments_lexer": "ipython2",
   "version": "2.7.9"
  }
 },
 "nbformat": 4,
 "nbformat_minor": 0
}
